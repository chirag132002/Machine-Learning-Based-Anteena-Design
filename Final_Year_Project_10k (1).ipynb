{
  "nbformat": 4,
  "nbformat_minor": 0,
  "metadata": {
    "colab": {
      "provenance": []
    },
    "kernelspec": {
      "name": "python3",
      "display_name": "Python 3"
    },
    "language_info": {
      "name": "python"
    }
  },
  "cells": [
    {
      "cell_type": "code",
      "execution_count": null,
      "metadata": {
        "id": "HumJC_Rq4qH4"
      },
      "outputs": [],
      "source": [
        "import pandas as pd\n",
        "import numpy as np\n",
        "from sklearn.model_selection import train_test_split\n",
        "from sklearn.ensemble import RandomForestRegressor, GradientBoostingRegressor\n",
        "from xgboost import XGBRegressor\n",
        "from sklearn.svm import SVR\n",
        "from sklearn.neural_network import MLPRegressor\n",
        "from sklearn.metrics import mean_absolute_error, mean_squared_error, r2_score"
      ]
    },
    {
      "cell_type": "code",
      "source": [
        "file_path = '/content/drive/MyDrive/Dataset/Dataset_10k.csv'\n",
        "data = pd.read_csv(file_path)"
      ],
      "metadata": {
        "id": "sbrIwE9S5SRX"
      },
      "execution_count": null,
      "outputs": []
    },
    {
      "cell_type": "code",
      "source": [
        "data = data[data['s11(dB)'] < -10]"
      ],
      "metadata": {
        "id": "phfP_Ztw6nyQ"
      },
      "execution_count": null,
      "outputs": []
    },
    {
      "cell_type": "code",
      "source": [
        "import pandas as pd\n",
        "from sklearn.model_selection import train_test_split\n",
        "from sklearn.ensemble import RandomForestRegressor\n",
        "from sklearn.multioutput import MultiOutputRegressor\n",
        "from sklearn.metrics import mean_absolute_error, mean_squared_error\n",
        "\n",
        "# Define input features and target parameters\n",
        "X = data[['Freq(GHz)', 's11(dB)']]\n",
        "y = data[['length of patch in mm', 'width of patch in mm', 'Slot length in mm', 'slot width in mm']]\n",
        "\n",
        "# Train-test split\n",
        "X_train, X_test, y_train, y_test = train_test_split(X, y, test_size=0.2, random_state=42)\n",
        "\n",
        "# Initialize and train Multi-Output Random Forest model\n",
        "rf_model = MultiOutputRegressor(RandomForestRegressor(n_estimators=100, random_state=42))\n",
        "rf_model.fit(X_train, y_train)\n",
        "\n",
        "# Evaluate model performance on test set\n",
        "y_pred = rf_model.predict(X_test)\n",
        "mae_rf = mean_absolute_error(y_test, y_pred, multioutput='raw_values')\n",
        "mse_rf = mean_squared_error(y_test, y_pred, multioutput='raw_values')\n",
        "rmse_rf = np.sqrt(mse_rf)\n",
        "r2_rf = r2_score(y_test, y_pred, multioutput='variance_weighted')\n",
        "\n",
        "print(\"Random Forest Regressor Metrics:\")\n",
        "print(\"MAE:\", mae_rf)\n",
        "print(\"MSE:\", mse_rf)\n",
        "print(\"RMSE:\", rmse_rf)\n",
        "print(\"R²:\", r2_rf)\n",
        "\n",
        "# Predict design parameters for 5 GHz frequency and -20 dB S11\n",
        "input_data = pd.DataFrame([[5.0, -20]], columns=['Freq(GHz)', 's11(dB)'])\n",
        "predicted_params = rf_model.predict(input_data)\n",
        "\n",
        "# Display predicted values\n",
        "print(\"\\nPredicted Design Parameters for 5 GHz and -20 dB S11:\")\n",
        "for param, value in zip(y.columns, predicted_params[0]):\n",
        "    print(f\"{param}: {value}\")"
      ],
      "metadata": {
        "colab": {
          "base_uri": "https://localhost:8080/"
        },
        "id": "7FRxQwPrLcLh",
        "outputId": "448160c4-7f46-47c6-bc72-74ef02ffdc47"
      },
      "execution_count": null,
      "outputs": [
        {
          "output_type": "stream",
          "name": "stdout",
          "text": [
            "Random Forest Regressor Metrics:\n",
            "MAE: [0.0280041  0.01308373 0.00504998 0.00420239]\n",
            "MSE: [0.00795011 0.00555168 0.00086204 0.0002196 ]\n",
            "RMSE: [0.08916338 0.07450962 0.02936049 0.01481903]\n",
            "R²: 0.9997930814891894\n",
            "\n",
            "Predicted Design Parameters for 5 GHz and -20 dB S11:\n",
            "length of patch in mm: 37.78999999999997\n",
            "width of patch in mm: 48.48999999999988\n",
            "Slot length in mm: 10.600000000000012\n",
            "slot width in mm: 2.860000000000009\n"
          ]
        }
      ]
    },
    {
      "cell_type": "code",
      "source": [
        "import pandas as pd\n",
        "from sklearn.model_selection import train_test_split\n",
        "from xgboost import XGBRegressor\n",
        "from sklearn.multioutput import MultiOutputRegressor\n",
        "from sklearn.metrics import mean_absolute_error, mean_squared_error\n",
        "\n",
        "# Load and filter dataset for valid designs\n",
        "data = data[data['s11(dB)'] < -10]  # Filter for valid designs\n",
        "\n",
        "# Define input features and target parameters\n",
        "X = data[['Freq(GHz)', 's11(dB)']]\n",
        "y = data[['length of patch in mm', 'width of patch in mm', 'Slot length in mm', 'slot width in mm']]\n",
        "\n",
        "# Train-test split\n",
        "X_train, X_test, y_train, y_test = train_test_split(X, y, test_size=0.2, random_state=42)\n",
        "\n",
        "# Initialize and train Multi-Output XGBoost model\n",
        "xgb_model = MultiOutputRegressor(XGBRegressor(n_estimators=100, learning_rate=0.1, random_state=42))\n",
        "xgb_model.fit(X_train, y_train)\n",
        "\n",
        "# Evaluate model performance on test set\n",
        "y_pred = xgb_model.predict(X_test)\n",
        "mae_xgb = mean_absolute_error(y_test, y_pred, multioutput='raw_values')\n",
        "mse_xgb = mean_squared_error(y_test, y_pred, multioutput='raw_values')\n",
        "rmse_xgb = np.sqrt(mse_xgb)\n",
        "r2_xgb = r2_score(y_test, y_pred, multioutput='variance_weighted')\n",
        "\n",
        "print(\"XGBoost Regressor Metrics:\")\n",
        "print(\"MAE:\", mae_xgb)\n",
        "print(\"MSE:\", mse_xgb)\n",
        "print(\"RMSE:\", rmse_xgb)\n",
        "print(\"R²:\", r2_xgb)\n",
        "\n",
        "# Predict design parameters for 5 GHz frequency and -20 dB S11\n",
        "input_data = pd.DataFrame([[5.0, -20]], columns=['Freq(GHz)', 's11(dB)'])\n",
        "predicted_params = xgb_model.predict(input_data)\n",
        "\n",
        "print(\"\\nPredicted Design Parameters for 5 GHz and -20 dB S11:\")\n",
        "for param, value in zip(y.columns, predicted_params[0]):\n",
        "    print(f\"{param}: {value}\")\n"
      ],
      "metadata": {
        "colab": {
          "base_uri": "https://localhost:8080/"
        },
        "id": "3HpELPlxPJO1",
        "outputId": "3cef6149-579e-4702-cb12-54a4f1cda1e3"
      },
      "execution_count": null,
      "outputs": [
        {
          "output_type": "stream",
          "name": "stdout",
          "text": [
            "XGBoost Regressor Metrics:\n",
            "MAE: [0.47336509 0.57463428 0.22648307 0.00472059]\n",
            "MSE: [5.52530845e+00 8.82579782e+00 1.37407017e+00 2.71113096e-04]\n",
            "RMSE: [2.35059747 2.97082443 1.17220739 0.01646551]\n",
            "R²: 0.7768778800964355\n",
            "\n",
            "Predicted Design Parameters for 5 GHz and -20 dB S11:\n",
            "length of patch in mm: 37.78911590576172\n",
            "width of patch in mm: 48.48979187011719\n",
            "Slot length in mm: 10.599979400634766\n",
            "slot width in mm: 2.859940528869629\n"
          ]
        }
      ]
    },
    {
      "cell_type": "code",
      "source": [
        "import pandas as pd\n",
        "from sklearn.model_selection import train_test_split\n",
        "from sklearn.svm import SVR\n",
        "from sklearn.multioutput import MultiOutputRegressor\n",
        "from sklearn.metrics import mean_absolute_error, mean_squared_error\n",
        "\n",
        "# Load and filter dataset for valid designs\n",
        "data = data[data['s11(dB)'] < -10]\n",
        "\n",
        "# Define input features and target parameters\n",
        "X = data[['Freq(GHz)', 's11(dB)']]\n",
        "y = data[['length of patch in mm', 'width of patch in mm', 'Slot length in mm', 'slot width in mm']]\n",
        "\n",
        "# Train-test split\n",
        "X_train, X_test, y_train, y_test = train_test_split(X, y, test_size=0.2, random_state=42)\n",
        "\n",
        "# Initialize and train Multi-Output SVM model\n",
        "svm_model = MultiOutputRegressor(SVR(kernel='rbf', C=100, gamma=0.1))\n",
        "svm_model.fit(X_train, y_train)\n",
        "\n",
        "# Evaluate model performance on test set\n",
        "y_pred = svm_model.predict(X_test)\n",
        "mae_svm = mean_absolute_error(y_test, y_pred, multioutput='raw_values')\n",
        "mse_svm = mean_squared_error(y_test, y_pred, multioutput='raw_values')\n",
        "rmse_svm = np.sqrt(mse_svm)\n",
        "r2_svm = r2_score(y_test, y_pred, multioutput='variance_weighted')\n",
        "\n",
        "print(\"Support Vector Regressor Metrics:\")\n",
        "print(\"MAE:\", mae_svm)\n",
        "print(\"MSE:\", mse_svm)\n",
        "print(\"RMSE:\", rmse_svm)\n",
        "print(\"R²:\", r2_svm)\n",
        "\n",
        "# Predict design parameters for 5 GHz frequency and -20 dB S11\n",
        "input_data = pd.DataFrame([[5.0, -20]], columns=['Freq(GHz)', 's11(dB)'])\n",
        "predicted_params = svm_model.predict(input_data)\n",
        "\n",
        "print(\"\\nPredicted Design Parameters for 5 GHz and -20 dB S11:\")\n",
        "for param, value in zip(y.columns, predicted_params[0]):\n",
        "    print(f\"{param}: {value}\")\n"
      ],
      "metadata": {
        "colab": {
          "base_uri": "https://localhost:8080/"
        },
        "id": "WROmFkruPdvh",
        "outputId": "5250c36d-4d93-4e7c-9915-91d10135119d"
      },
      "execution_count": null,
      "outputs": [
        {
          "output_type": "stream",
          "name": "stdout",
          "text": [
            "Support Vector Regressor Metrics:\n",
            "MAE: [2.77968274 3.63106002 1.31859811 0.035     ]\n",
            "MSE: [2.04601460e+01 3.42224728e+01 5.52755682e+00 1.22500000e-03]\n",
            "RMSE: [4.5232893  5.84999768 2.35107567 0.035     ]\n",
            "R²: 0.14568448485423371\n",
            "\n",
            "Predicted Design Parameters for 5 GHz and -20 dB S11:\n",
            "length of patch in mm: 34.841801521304106\n",
            "width of patch in mm: 44.697483148207525\n",
            "Slot length in mm: 9.041606972634858\n",
            "slot width in mm: 2.825\n"
          ]
        }
      ]
    },
    {
      "cell_type": "code",
      "source": [
        "from sklearn.neural_network import MLPRegressor\n",
        "\n",
        "# Initialize and train Multi-Output Neural Network (MLP) model\n",
        "mlp_model = MultiOutputRegressor(MLPRegressor(hidden_layer_sizes=(64, 32, 16), max_iter=500, random_state=42))\n",
        "mlp_model.fit(X_train, y_train)\n",
        "\n",
        "# Predict on test set and evaluate\n",
        "y_pred_mlp = mlp_model.predict(X_test)\n",
        "mae_mlp = mean_absolute_error(y_test, y_pred_mlp, multioutput='raw_values')\n",
        "mse_mlp = mean_squared_error(y_test, y_pred_mlp, multioutput='raw_values')\n",
        "rmse_mlp = np.sqrt(mse_mlp)\n",
        "r2_mlp = r2_score(y_test, y_pred_mlp, multioutput='variance_weighted')\n",
        "\n",
        "print(\"MLP Regressor (Neural Network) Metrics:\")\n",
        "print(\"MAE:\", mae_mlp)\n",
        "print(\"MSE:\", mse_mlp)\n",
        "print(\"RMSE:\", rmse_mlp)\n",
        "print(\"R²:\", r2_mlp)"
      ],
      "metadata": {
        "colab": {
          "base_uri": "https://localhost:8080/"
        },
        "id": "2ddh1bckgBHi",
        "outputId": "3ab1b8f4-9e48-411e-ce17-fb64b84ece67"
      },
      "execution_count": null,
      "outputs": [
        {
          "output_type": "stream",
          "name": "stderr",
          "text": [
            "/usr/local/lib/python3.10/dist-packages/sklearn/neural_network/_multilayer_perceptron.py:690: ConvergenceWarning: Stochastic Optimizer: Maximum iterations (500) reached and the optimization hasn't converged yet.\n",
            "  warnings.warn(\n",
            "/usr/local/lib/python3.10/dist-packages/sklearn/neural_network/_multilayer_perceptron.py:690: ConvergenceWarning: Stochastic Optimizer: Maximum iterations (500) reached and the optimization hasn't converged yet.\n",
            "  warnings.warn(\n"
          ]
        },
        {
          "output_type": "stream",
          "name": "stdout",
          "text": [
            "MLP Regressor (Neural Network) Metrics:\n",
            "MAE: [2.41759892 4.18092414 1.54397727 0.03990916]\n",
            "MSE: [1.30493043e+01 2.58655972e+01 4.50904341e+00 2.62179690e-03]\n",
            "RMSE: [3.61238207 5.08582316 2.12345083 0.05120349]\n",
            "R²: 0.38383779115412636\n"
          ]
        }
      ]
    },
    {
      "cell_type": "code",
      "source": [
        "import pandas as pd\n",
        "import numpy as np\n",
        "from xgboost import XGBRegressor\n",
        "from sklearn.multioutput import MultiOutputRegressor\n",
        "from sklearn.model_selection import train_test_split\n",
        "from sklearn.metrics import mean_absolute_error, mean_squared_error\n",
        "\n",
        "\n",
        "# Define features and target variables\n",
        "X = data[['Freq(GHz)', 's11(dB)']]\n",
        "y = data[['length of patch in mm', 'width of patch in mm', 'Slot length in mm', 'slot width in mm']]\n",
        "\n",
        "# Train-test split\n",
        "X_train, X_test, y_train, y_test = train_test_split(X, y, test_size=0.2, random_state=42)\n",
        "\n",
        "# Initialize and train Multi-Output XGBoost model\n",
        "xgb_model = MultiOutputRegressor(XGBRegressor(objective='reg:squarederror', random_state=42))\n",
        "xgb_model.fit(X_train, y_train)\n",
        "\n",
        "# Evaluate model performance on test set\n",
        "y_pred = xgb_model.predict(X_test)\n",
        "mae = mean_absolute_error(y_test, y_pred, multioutput='raw_values')\n",
        "mse = mean_squared_error(y_test, y_pred, multioutput='raw_values')\n",
        "print(\"Mean Absolute Error for each parameter:\", mae)\n",
        "print(\"Mean Squared Error for each parameter:\", mse)\n",
        "\n",
        "# Generate predictions for multiple frequency and S11 combinations\n",
        "frequencies = np.linspace(4.5, 6.0, num=5)\n",
        "s11_values = np.linspace(-25, -10, num=5)\n",
        "\n",
        "predictions = []\n",
        "for freq in frequencies:\n",
        "    for s11 in s11_values:\n",
        "        input_data = pd.DataFrame([[freq, s11]], columns=['Freq(GHz)', 's11(dB)'])\n",
        "        predicted_params = xgb_model.predict(input_data)\n",
        "\n",
        "        prediction = {\n",
        "            'Freq(GHz)': freq,\n",
        "            's11(dB)': s11,\n",
        "            'length of patch in mm': predicted_params[0][0],\n",
        "            'width of patch in mm': predicted_params[0][1],\n",
        "            'Slot length in mm': predicted_params[0][2],\n",
        "            'slot width in mm': predicted_params[0][3]\n",
        "        }\n",
        "        predictions.append(prediction)\n",
        "\n",
        "# Convert predictions to DataFrame for analysis\n",
        "predicted_df = pd.DataFrame(predictions)\n",
        "\n",
        "# Display predicted values\n",
        "print(\"\\nPredicted Design Parameters for Multiple Frequency and S11 Combinations (XGBoost):\")\n",
        "print(predicted_df)\n"
      ],
      "metadata": {
        "colab": {
          "base_uri": "https://localhost:8080/"
        },
        "id": "g2CLU19_G20X",
        "outputId": "08eb9ed2-80fb-4035-ba71-3523f8787cfc"
      },
      "execution_count": null,
      "outputs": [
        {
          "output_type": "stream",
          "name": "stdout",
          "text": [
            "Mean Absolute Error for each parameter: [0.47739987 0.57703139 0.22654955 0.00474061]\n",
            "Mean Squared Error for each parameter: [5.49312253e+00 8.83217625e+00 1.36940899e+00 2.69691993e-04]\n",
            "\n",
            "Predicted Design Parameters for Multiple Frequency and S11 Combinations (XGBoost):\n",
            "    Freq(GHz)  s11(dB)  length of patch in mm  width of patch in mm  \\\n",
            "0       4.500   -25.00              37.680782             48.482224   \n",
            "1       4.500   -21.25              37.788395             48.490101   \n",
            "2       4.500   -17.50              37.788395             48.490101   \n",
            "3       4.500   -13.75              37.790062             48.490128   \n",
            "4       4.500   -10.00              37.789337             48.489819   \n",
            "5       4.875   -25.00              37.680782             48.482224   \n",
            "6       4.875   -21.25              37.788395             48.490101   \n",
            "7       4.875   -17.50              37.788395             48.490101   \n",
            "8       4.875   -13.75              37.790062             48.490128   \n",
            "9       4.875   -10.00              37.789337             48.489819   \n",
            "10      5.250   -25.00              37.680782             48.482224   \n",
            "11      5.250   -21.25              37.788395             48.490101   \n",
            "12      5.250   -17.50              37.788395             48.490101   \n",
            "13      5.250   -13.75              37.790062             48.490128   \n",
            "14      5.250   -10.00              37.789337             48.489819   \n",
            "15      5.625   -25.00              37.680782             48.482224   \n",
            "16      5.625   -21.25              37.788395             48.490101   \n",
            "17      5.625   -17.50              37.788395             48.490101   \n",
            "18      5.625   -13.75              37.790062             48.490128   \n",
            "19      5.625   -10.00              37.789337             48.489819   \n",
            "20      6.000   -25.00              37.680782             48.482224   \n",
            "21      6.000   -21.25              37.788395             48.490101   \n",
            "22      6.000   -17.50              37.788395             48.490101   \n",
            "23      6.000   -13.75              37.790062             48.490128   \n",
            "24      6.000   -10.00              37.789337             48.489819   \n",
            "\n",
            "    Slot length in mm  slot width in mm  \n",
            "0           10.599922          2.859924  \n",
            "1           10.599922          2.859924  \n",
            "2           10.599922          2.859924  \n",
            "3           10.599922          2.858300  \n",
            "4           10.600206          2.859971  \n",
            "5           10.599922          2.859924  \n",
            "6           10.599922          2.859924  \n",
            "7           10.599922          2.859924  \n",
            "8           10.599922          2.858300  \n",
            "9           10.600206          2.859971  \n",
            "10          10.599922          2.859924  \n",
            "11          10.599922          2.859924  \n",
            "12          10.599922          2.859924  \n",
            "13          10.599922          2.858300  \n",
            "14          10.600206          2.859971  \n",
            "15          10.599922          2.859924  \n",
            "16          10.599922          2.859924  \n",
            "17          10.599922          2.859924  \n",
            "18          10.599922          2.858300  \n",
            "19          10.600206          2.859971  \n",
            "20          10.599922          2.859924  \n",
            "21          10.599922          2.859924  \n",
            "22          10.599922          2.859924  \n",
            "23          10.599922          2.858300  \n",
            "24          10.600206          2.859971  \n"
          ]
        }
      ]
    }
  ]
}